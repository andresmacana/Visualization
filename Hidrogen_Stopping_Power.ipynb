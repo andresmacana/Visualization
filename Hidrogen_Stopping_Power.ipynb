{
 "cells": [
  {
   "cell_type": "markdown",
   "metadata": {},
   "source": [
    "# Working out Python, Pandas and visualization\n"
   ]
  },
  {
   "cell_type": "markdown",
   "metadata": {},
   "source": [
    "The Radiation Dosimetry section from the NIST web page have the Stopping-Power and Range Tables for Electrons, Protons, and Helium Ions.\n",
    "The Energies are specified in MeV, and must be in the range from 0.001 MeV to 10000 MeV.\n",
    "NIST Standard Reference Database 1.2.4\n",
    "url=https://www.nist.gov/pml/radiation-dosimetry-data"
   ]
  },
  {
   "cell_type": "markdown",
   "metadata": {},
   "source": [
    "This simple exercise explains how easily works python and pandas."
   ]
  },
  {
   "cell_type": "markdown",
   "metadata": {},
   "source": [
    "First we load the basics libraries"
   ]
  },
  {
   "cell_type": "code",
   "execution_count": 1,
   "metadata": {},
   "outputs": [],
   "source": [
    "import matplotlib.pyplot as plt\n",
    "import pandas as pd #this is how I usually import pandas\n",
    "import numpy as np"
   ]
  },
  {
   "cell_type": "markdown",
   "metadata": {},
   "source": [
    "Now, load the csv file"
   ]
  },
  {
   "cell_type": "code",
   "execution_count": 2,
   "metadata": {},
   "outputs": [],
   "source": [
    "df = pd.read_csv('stp_pow_H.csv')"
   ]
  },
  {
   "cell_type": "markdown",
   "metadata": {},
   "source": [
    "Take a look at this dataframe"
   ]
  },
  {
   "cell_type": "code",
   "execution_count": 4,
   "metadata": {},
   "outputs": [
    {
     "data": {
      "text/html": [
       "<div>\n",
       "<style scoped>\n",
       "    .dataframe tbody tr th:only-of-type {\n",
       "        vertical-align: middle;\n",
       "    }\n",
       "\n",
       "    .dataframe tbody tr th {\n",
       "        vertical-align: top;\n",
       "    }\n",
       "\n",
       "    .dataframe thead th {\n",
       "        text-align: right;\n",
       "    }\n",
       "</style>\n",
       "<table border=\"1\" class=\"dataframe\">\n",
       "  <thead>\n",
       "    <tr style=\"text-align: right;\">\n",
       "      <th></th>\n",
       "      <th>Kinetic Energy MeV</th>\n",
       "      <th>collision_stp_pow MeV cm2/g</th>\n",
       "      <th>radiative_stp_pow MeV cm2/g</th>\n",
       "      <th>total_stp_pow MeV cm2/g</th>\n",
       "      <th>Range cm2/g</th>\n",
       "      <th>radiation_yield</th>\n",
       "      <th>density_effect_parameter</th>\n",
       "    </tr>\n",
       "  </thead>\n",
       "  <tbody>\n",
       "    <tr>\n",
       "      <th>0</th>\n",
       "      <td>0.0100</td>\n",
       "      <td>51.2</td>\n",
       "      <td>0.000970</td>\n",
       "      <td>51.2</td>\n",
       "      <td>0.000108</td>\n",
       "      <td>0.000010</td>\n",
       "      <td>0.0</td>\n",
       "    </tr>\n",
       "    <tr>\n",
       "      <th>1</th>\n",
       "      <td>0.0125</td>\n",
       "      <td>42.7</td>\n",
       "      <td>0.000979</td>\n",
       "      <td>42.7</td>\n",
       "      <td>0.000161</td>\n",
       "      <td>0.000012</td>\n",
       "      <td>0.0</td>\n",
       "    </tr>\n",
       "    <tr>\n",
       "      <th>2</th>\n",
       "      <td>0.0150</td>\n",
       "      <td>36.8</td>\n",
       "      <td>0.000988</td>\n",
       "      <td>36.8</td>\n",
       "      <td>0.000225</td>\n",
       "      <td>0.000014</td>\n",
       "      <td>0.0</td>\n",
       "    </tr>\n",
       "    <tr>\n",
       "      <th>3</th>\n",
       "      <td>0.0175</td>\n",
       "      <td>32.5</td>\n",
       "      <td>0.000996</td>\n",
       "      <td>32.5</td>\n",
       "      <td>0.000297</td>\n",
       "      <td>0.000017</td>\n",
       "      <td>0.0</td>\n",
       "    </tr>\n",
       "    <tr>\n",
       "      <th>4</th>\n",
       "      <td>0.0200</td>\n",
       "      <td>29.2</td>\n",
       "      <td>0.001000</td>\n",
       "      <td>29.2</td>\n",
       "      <td>0.000378</td>\n",
       "      <td>0.000018</td>\n",
       "      <td>0.0</td>\n",
       "    </tr>\n",
       "  </tbody>\n",
       "</table>\n",
       "</div>"
      ],
      "text/plain": [
       "   Kinetic Energy MeV  collision_stp_pow MeV cm2/g  \\\n",
       "0              0.0100                         51.2   \n",
       "1              0.0125                         42.7   \n",
       "2              0.0150                         36.8   \n",
       "3              0.0175                         32.5   \n",
       "4              0.0200                         29.2   \n",
       "\n",
       "   radiative_stp_pow MeV cm2/g  total_stp_pow MeV cm2/g  Range cm2/g  \\\n",
       "0                     0.000970                     51.2     0.000108   \n",
       "1                     0.000979                     42.7     0.000161   \n",
       "2                     0.000988                     36.8     0.000225   \n",
       "3                     0.000996                     32.5     0.000297   \n",
       "4                     0.001000                     29.2     0.000378   \n",
       "\n",
       "   radiation_yield  density_effect_parameter  \n",
       "0         0.000010                       0.0  \n",
       "1         0.000012                       0.0  \n",
       "2         0.000014                       0.0  \n",
       "3         0.000017                       0.0  \n",
       "4         0.000018                       0.0  "
      ]
     },
     "execution_count": 4,
     "metadata": {},
     "output_type": "execute_result"
    }
   ],
   "source": [
    "df.head()"
   ]
  },
  {
   "cell_type": "markdown",
   "metadata": {},
   "source": [
    "**And very important** check what types do you have. We need float of course."
   ]
  },
  {
   "cell_type": "code",
   "execution_count": 5,
   "metadata": {},
   "outputs": [
    {
     "data": {
      "text/plain": [
       "Kinetic Energy MeV             float64\n",
       "collision_stp_pow MeV cm2/g    float64\n",
       "radiative_stp_pow MeV cm2/g    float64\n",
       "total_stp_pow MeV cm2/g        float64\n",
       "Range cm2/g                    float64\n",
       "radiation_yield                float64\n",
       "density_effect_parameter       float64\n",
       "dtype: object"
      ]
     },
     "execution_count": 5,
     "metadata": {},
     "output_type": "execute_result"
    }
   ],
   "source": [
    "df.dtypes"
   ]
  },
  {
   "cell_type": "markdown",
   "metadata": {},
   "source": [
    "It seems that we are cool."
   ]
  },
  {
   "cell_type": "markdown",
   "metadata": {},
   "source": [
    "Let's check the data frame shape"
   ]
  },
  {
   "cell_type": "code",
   "execution_count": 6,
   "metadata": {},
   "outputs": [
    {
     "data": {
      "text/plain": [
       "(81, 7)"
      ]
     },
     "execution_count": 6,
     "metadata": {},
     "output_type": "execute_result"
    }
   ],
   "source": [
    "df.shape"
   ]
  },
  {
   "cell_type": "markdown",
   "metadata": {},
   "source": [
    "## Now let's start the visualization part"
   ]
  },
  {
   "cell_type": "markdown",
   "metadata": {},
   "source": [
    "We will reproduce the same graphic shown on the NIST web page,\n",
    "the collision radiative and total stopping power Vs the kinetic energy in the same frame."
   ]
  },
  {
   "cell_type": "markdown",
   "metadata": {},
   "source": [
    "gca (global current axes) is for keep the same axe with different lines."
   ]
  },
  {
   "cell_type": "code",
   "execution_count": 7,
   "metadata": {},
   "outputs": [
    {
     "data": {
      "image/png": "[encoded data removed]",
      "text/plain": [
       "<Figure size 432x288 with 1 Axes>"
      ]
     },
     "metadata": {
      "needs_background": "light"
     },
     "output_type": "display_data"
    }
   ],
   "source": [
    "ax = plt.gca()"
   ]
  },
  {
   "cell_type": "markdown",
   "metadata": {},
   "source": [
    "Now, plot the columns data frame. This is one way.\n",
    "Remember fix the axes scale, for us is logarithmic.\n",
    "Set the title and the axes labels.\n",
    "Add a legend"
   ]
  },
  {
   "cell_type": "code",
   "execution_count": 12,
   "metadata": {},
   "outputs": [
    {
     "data": {
      "image/png": "[encoded data removed]",
      "text/plain": [
       "<Figure size 432x288 with 1 Axes>"
      ]
     },
     "metadata": {
      "needs_background": "light"
     },
     "output_type": "display_data"
    }
   ],
   "source": [
    "ax = df.plot(kind='line',x='Kinetic Energy MeV',y='collision_stp_pow MeV cm2/g',style='-.')\n",
    "df.plot(kind='line',x='Kinetic Energy MeV',y='radiative_stp_pow MeV cm2/g',style='--',color='red',ax=ax)\n",
    "df.plot(kind='line',x='Kinetic Energy MeV',y='total_stp_pow MeV cm2/g',color='green',ax=ax)\n",
    "#fix the axes to logarithmic scale\n",
    "plt.xscale('log')\n",
    "plt.yscale('log')\n",
    "#set the title and the axes labels\n",
    "ax.set_title('HIDROGEN Stopping Power for Electrons ')\n",
    "ax.set_xlabel('Kinetic Energy (MeV)')\n",
    "ax.set_ylabel('Stopping Power (Mev cm2/g)')\n",
    "#add a legend\n",
    "ax.legend(['collision stopping power','radiative stopping power','total stopping power'],loc='best')\n",
    "#if you want to save the figure when you use -ax-\n",
    "#must start with gcf(get current figure) because sometimes don't save directly\n",
    "fig = plt.gcf()\n",
    "fig.savefig('Hidrogen stopping power.png')\n",
    "plt.show()"
   ]
  },
  {
   "cell_type": "markdown",
   "metadata": {},
   "source": [
    "## Easy right?! \n"
   ]
  },
  {
   "cell_type": "code",
   "execution_count": null,
   "metadata": {},
   "outputs": [],
   "source": []
  }
 ],
 "metadata": {
  "kernelspec": {
   "display_name": "Python 3",
   "language": "python",
   "name": "python3"
  },
  "language_info": {
   "codemirror_mode": {
    "name": "ipython",
    "version": 3
   },
   "file_extension": ".py",
   "mimetype": "text/x-python",
   "name": "python",
   "nbconvert_exporter": "python",
   "pygments_lexer": "ipython3",
   "version": "3.6.8"
  }
 },
 "nbformat": 4,
 "nbformat_minor": 2
}
